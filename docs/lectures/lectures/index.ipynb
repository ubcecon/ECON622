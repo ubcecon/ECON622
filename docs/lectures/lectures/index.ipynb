{
  "cells": [
    {
      "cell_type": "markdown",
      "metadata": {},
      "source": [
        "# ECON622\n",
        "\n",
        "To use with Jupyter, clone the repository or download the notebooks.\n",
        "\n",
        "# Lectures\n",
        "\n",
        "1.  <a href=\"factorizations_direct_methods.html\"\n",
        "    target=\"_blank\">Factorizations and Direct Methods</a>,\n",
        "    <a href=\"factorizations_direct_methods.ipynb\"\n",
        "    target=\"_blank\">Jupyter</a>\n",
        "2.  <a href=\"least_squares.html\" target=\"_blank\">Least Squares</a>,\n",
        "    <a href=\"least_squares.ipynb\" target=\"_blank\">Jupyter</a>\n",
        "3.  <a href=\"iterative_methods.html\" target=\"_blank\">Linear Algebra and\n",
        "    Iterative Methods</a>,\n",
        "    <a href=\"iterative_methods.ipynb\" target=\"_blank\">Jupyter</a>\n",
        "4.  <a href=\"intro_to_ml.html\" target=\"_blank\">Intro to ML</a>,\n",
        "    <a href=\"intro_to_ml.ipynb\" target=\"_blank\">Jupyter</a>\n",
        "5.  <a href=\"differentiation.html\" target=\"_blank\">Differentiation</a>,\n",
        "    <a href=\"differentiation.ipynb\" target=\"_blank\">Jupyter</a>\n",
        "6.  <a href=\"optimization.html\" target=\"_blank\">Optimization and ML</a>,\n",
        "    <a href=\"optimization.ipynb\" target=\"_blank\">Jupyter</a>\n",
        "7.  <a href=\"deep_learning.html\" target=\"_blank\">Deep Learning and\n",
        "    Representation Learning</a>,\n",
        "    <a href=\"deep_learning.ipynb\" target=\"_blank\">Jupyter</a>\n",
        "8.  <a href=\"overparameterization.html\"\n",
        "    target=\"_blank\">Overparameterization, Double-Descent, and Implicit\n",
        "    Bias</a>,\n",
        "    <a href=\"overparameterization.ipynb\" target=\"_blank\">Jupyter</a>\n",
        "9.  <a href=\"kernel_methods.html\" target=\"_blank\">Intro to Kernel Methods\n",
        "    and Gaussian Processes</a>,\n",
        "    <a href=\"kernel_methods.ipynb\" target=\"_blank\">Jupyter</a>\n",
        "10. <a href=\"embeddings_nlp_llm.html\" target=\"_blank\">Embeddings, NLP, and\n",
        "    LLMs</a>,\n",
        "    <a href=\"embeddings_nlp_llm.ipynb\" target=\"_blank\">Jupyter</a>\n",
        "11. <a href=\"transformers.html\" target=\"_blank\">Attention and\n",
        "    Transformers</a>,\n",
        "    <a href=\"transformers.ipynb\" target=\"_blank\">Jupyter</a>"
      ],
      "id": "5538df6c-7fa7-4a65-a513-d0c733902c31"
    },
    {
      "cell_type": "raw",
      "metadata": {
        "raw_mimetype": "text/html"
      },
      "source": [
        "<!-- 11. [Solving Functional Equations](solving_functional_equations.html){target=\"_blank\"}, [Jupyter](solving_functional_equations.ipynb){target=\"_blank\"}\n",
        "1.  [Bayesian Methods and Generative Models](bayesian_generative.html){target=\"_blank\"}, [Jupyter](bayesian_generative.ipynb){target=\"_blank\"} -->"
      ],
      "id": "8d941140-d41c-45c6-90b6-60df8d23a22d"
    }
  ],
  "nbformat": 4,
  "nbformat_minor": 5,
  "metadata": {
    "kernelspec": {
      "display_name": "Python 3",
      "language": "python",
      "name": "python3"
    }
  }
}